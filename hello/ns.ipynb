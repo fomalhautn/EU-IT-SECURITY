{
 "cells": [
  {
   "cell_type": "code",
   "execution_count": null,
   "metadata": {},
   "outputs": [],
   "source": [
    "import numpy as np\n",
    "\n",
    "# Original mouse trajectory data in x,y coordinates\n",
    "trajectory_data = np.load(\"data/calms21_task1/train_trajectory_data.npy\")\n",
    "print(\"Trajectory data: \" + str(trajectory_data.shape))\n",
    "\n",
    "# Processed features from trajectory data, consisting of behavior attributes\n",
    "# such as speed, facing angle, distance between mice, etc.\n",
    "feature_data = np.load(\"data/calms21_task1/train_data.npy\")\n",
    "print(\"Extracted features: \" + str(feature_data.shape))\n",
    "\n",
    "# Human annotated labels \n",
    "labels = np.load(\"data/calms21_task1/train_investigation_labels.npy\")\n",
    "print(\"Label data: \" + str(labels.shape))\n",
    "\n",
    "\n",
    "#  What is the proportion of clips that are annotated with investigation vs no investigation in the train set?\n",
    "print(\"Proportion of investigation clips: \" + str(np.sum(labels)/len(labels)))"
   ]
  }
 ],
 "metadata": {
  "language_info": {
   "name": "python"
  },
  "orig_nbformat": 4
 },
 "nbformat": 4,
 "nbformat_minor": 2
}
